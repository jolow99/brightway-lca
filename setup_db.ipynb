{
 "cells": [
  {
   "cell_type": "code",
   "execution_count": 1,
   "metadata": {},
   "outputs": [
    {
     "name": "stdout",
     "output_type": "stream",
     "text": [
      "Current project: default\n",
      "\n",
      "Databases before biosphere setup:\n",
      "Databases dictionary with 2 object(s):\n",
      "\tbiosphere3\n",
      "\ttest2\n",
      "Biosphere database already present!!! No setup is needed\n"
     ]
    }
   ],
   "source": [
    "import bw2io as bi\n",
    "import bw2data as bd\n",
    "\n",
    "bd.projects.set_current(\"default\")\n",
    "print(f\"Current project: {bd.projects.current}\")\n",
    "print(\"\\nDatabases before biosphere setup:\")\n",
    "print(bd.databases)\n",
    "\n",
    "# Setup biosphere database\n",
    "bi.bw2setup()"
   ]
  },
  {
   "cell_type": "code",
   "execution_count": 2,
   "metadata": {},
   "outputs": [
    {
     "name": "stdout",
     "output_type": "stream",
     "text": [
      "Extracting XML data from 17328 datasets\n",
      "Extracted 17328 datasets in 17.49 seconds\n",
      "Applying strategy: normalize_units\n",
      "Applying strategy: update_ecoinvent_locations\n",
      "Applying strategy: remove_zero_amount_coproducts\n",
      "Applying strategy: remove_zero_amount_inputs_with_no_activity\n",
      "Applying strategy: remove_unnamed_parameters\n",
      "Applying strategy: es2_assign_only_product_with_amount_as_reference_product\n",
      "Applying strategy: assign_single_product_as_activity\n",
      "Applying strategy: create_composite_code\n",
      "Applying strategy: drop_unspecified_subcategories\n",
      "Applying strategy: fix_ecoinvent_flows_pre35\n",
      "Applying strategy: drop_temporary_outdated_biosphere_flows\n",
      "Applying strategy: link_biosphere_by_flow_uuid\n",
      "Applying strategy: link_internal_technosphere_by_composite_code\n",
      "Applying strategy: delete_exchanges_missing_activity\n",
      "Applying strategy: delete_ghost_exchanges\n",
      "15 exchanges couldn't be linked and were deleted. See the logfile for details:\n",
      "\t/Users/jolow/Library/Logs/Brightway3/default.c21f969b5f03d33d43e04f8f136e7682/Ecospold2-import-error.FxTXCF.log\n",
      "Applying strategy: remove_uncertainty_from_negative_loss_exchanges\n",
      "Applying strategy: fix_unreasonably_high_lognormal_uncertainties\n",
      "Applying strategy: set_lognormal_loc_value\n",
      "Applying strategy: convert_activity_parameters_to_list\n",
      "Applying strategy: add_cpc_classification_from_single_reference_product\n",
      "Applying strategy: delete_none_synonyms\n",
      "Applied 21 strategies in 2.94 seconds\n",
      "17328 datasets\n",
      "492953 exchanges\n",
      "117 unlinked exchanges\n",
      "  Type biosphere: 3 unique unlinked exchanges\n",
      "\n",
      "Databases before writing:\n",
      "Databases dictionary with 2 object(s):\n",
      "\tbiosphere3\n",
      "\ttest2\n"
     ]
    }
   ],
   "source": [
    "importer_ei37 = bi.importers.ecospold2.SingleOutputEcospold2Importer(\n",
    "    dirpath = \"EcoInvent 3.7 (General)/ecoinvent 3.7.1_consequential_ecoSpold02/datasets\",\n",
    "    db_name = 'eco'\n",
    ")\n",
    "importer_ei37.apply_strategies()\n",
    "importer_ei37.statistics()\n",
    "\n",
    "# Print databases before writing\n",
    "print(\"\\nDatabases before writing:\")\n",
    "print(bd.databases)\n",
    "\n"
   ]
  },
  {
   "cell_type": "code",
   "execution_count": 7,
   "metadata": {},
   "outputs": [
    {
     "name": "stderr",
     "output_type": "stream",
     "text": [
      "Writing activities to SQLite3 database:\n"
     ]
    },
    {
     "ename": "InvalidExchange",
     "evalue": "",
     "output_type": "error",
     "traceback": [
      "\u001b[0;31m---------------------------------------------------------------------------\u001b[0m",
      "\u001b[0;31mInvalidExchange\u001b[0m                           Traceback (most recent call last)",
      "Cell \u001b[0;32mIn[7], line 1\u001b[0m\n\u001b[0;32m----> 1\u001b[0m \u001b[43mimporter_ei37\u001b[49m\u001b[38;5;241;43m.\u001b[39;49m\u001b[43mwrite_database\u001b[49m\u001b[43m(\u001b[49m\u001b[43m)\u001b[49m\n\u001b[1;32m      3\u001b[0m \u001b[38;5;66;03m# Print databases after writing to verify\u001b[39;00m\n\u001b[1;32m      4\u001b[0m \u001b[38;5;28mprint\u001b[39m(\u001b[38;5;124m\"\u001b[39m\u001b[38;5;130;01m\\n\u001b[39;00m\u001b[38;5;124mDatabases after writing:\u001b[39m\u001b[38;5;124m\"\u001b[39m)\n",
      "File \u001b[0;32m~/miniconda3/envs/ab/lib/python3.9/site-packages/bw2io/importers/base_lci.py:269\u001b[0m, in \u001b[0;36mLCIImporter.write_database\u001b[0;34m(self, data, delete_existing, backend, activate_parameters, **kwargs)\u001b[0m\n\u001b[1;32m    266\u001b[0m \u001b[38;5;28mself\u001b[39m\u001b[38;5;241m.\u001b[39mwrite_database_parameters(activate_parameters, delete_existing)\n\u001b[1;32m    268\u001b[0m existing\u001b[38;5;241m.\u001b[39mupdate(data)\n\u001b[0;32m--> 269\u001b[0m \u001b[43mdb\u001b[49m\u001b[38;5;241;43m.\u001b[39;49m\u001b[43mwrite\u001b[49m\u001b[43m(\u001b[49m\u001b[43mexisting\u001b[49m\u001b[43m)\u001b[49m\n\u001b[1;32m    271\u001b[0m \u001b[38;5;28;01mif\u001b[39;00m activate_parameters:\n\u001b[1;32m    272\u001b[0m     \u001b[38;5;28mself\u001b[39m\u001b[38;5;241m.\u001b[39m_write_activity_parameters(activity_parameters)\n",
      "File \u001b[0;32m~/miniconda3/envs/ab/lib/python3.9/site-packages/bw2data/project.py:358\u001b[0m, in \u001b[0;36mwritable_project\u001b[0;34m(wrapped, instance, args, kwargs)\u001b[0m\n\u001b[1;32m    356\u001b[0m \u001b[38;5;28;01mif\u001b[39;00m projects\u001b[38;5;241m.\u001b[39mread_only:\n\u001b[1;32m    357\u001b[0m     \u001b[38;5;28;01mraise\u001b[39;00m ReadOnlyProject(READ_ONLY_PROJECT)\n\u001b[0;32m--> 358\u001b[0m \u001b[38;5;28;01mreturn\u001b[39;00m \u001b[43mwrapped\u001b[49m\u001b[43m(\u001b[49m\u001b[38;5;241;43m*\u001b[39;49m\u001b[43margs\u001b[49m\u001b[43m,\u001b[49m\u001b[43m \u001b[49m\u001b[38;5;241;43m*\u001b[39;49m\u001b[38;5;241;43m*\u001b[39;49m\u001b[43mkwargs\u001b[49m\u001b[43m)\u001b[49m\n",
      "File \u001b[0;32m~/miniconda3/envs/ab/lib/python3.9/site-packages/bw2data/backends/peewee/database.py:260\u001b[0m, in \u001b[0;36mSQLiteBackend.write\u001b[0;34m(self, data, process)\u001b[0m\n\u001b[1;32m    258\u001b[0m \u001b[38;5;28;01mif\u001b[39;00m data:\n\u001b[1;32m    259\u001b[0m     \u001b[38;5;28;01mtry\u001b[39;00m:\n\u001b[0;32m--> 260\u001b[0m         \u001b[38;5;28;43mself\u001b[39;49m\u001b[38;5;241;43m.\u001b[39;49m\u001b[43m_efficient_write_many_data\u001b[49m\u001b[43m(\u001b[49m\u001b[43mdata\u001b[49m\u001b[43m)\u001b[49m\n\u001b[1;32m    261\u001b[0m     \u001b[38;5;28;01mexcept\u001b[39;00m:\n\u001b[1;32m    262\u001b[0m         \u001b[38;5;66;03m# Purge all data from database, then reraise\u001b[39;00m\n\u001b[1;32m    263\u001b[0m         \u001b[38;5;28mself\u001b[39m\u001b[38;5;241m.\u001b[39mdelete(warn\u001b[38;5;241m=\u001b[39m\u001b[38;5;28;01mFalse\u001b[39;00m)\n",
      "File \u001b[0;32m~/miniconda3/envs/ab/lib/python3.9/site-packages/bw2data/backends/peewee/database.py:204\u001b[0m, in \u001b[0;36mSQLiteBackend._efficient_write_many_data\u001b[0;34m(self, data, indices)\u001b[0m\n\u001b[1;32m    197\u001b[0m     \u001b[38;5;28mself\u001b[39m\u001b[38;5;241m.\u001b[39mpbar \u001b[38;5;241m=\u001b[39m pyprind\u001b[38;5;241m.\u001b[39mProgBar(\n\u001b[1;32m    198\u001b[0m         \u001b[38;5;28mlen\u001b[39m(data),\n\u001b[1;32m    199\u001b[0m         title\u001b[38;5;241m=\u001b[39m\u001b[38;5;124m\"\u001b[39m\u001b[38;5;124mWriting activities to SQLite3 database:\u001b[39m\u001b[38;5;124m\"\u001b[39m,\n\u001b[1;32m    200\u001b[0m         monitor\u001b[38;5;241m=\u001b[39m\u001b[38;5;28;01mTrue\u001b[39;00m\n\u001b[1;32m    201\u001b[0m     )\n\u001b[1;32m    203\u001b[0m \u001b[38;5;28;01mfor\u001b[39;00m index, (key, ds) \u001b[38;5;129;01min\u001b[39;00m \u001b[38;5;28menumerate\u001b[39m(data\u001b[38;5;241m.\u001b[39mitems()):\n\u001b[0;32m--> 204\u001b[0m     exchanges, activities \u001b[38;5;241m=\u001b[39m \u001b[38;5;28;43mself\u001b[39;49m\u001b[38;5;241;43m.\u001b[39;49m\u001b[43m_efficient_write_dataset\u001b[49m\u001b[43m(\u001b[49m\n\u001b[1;32m    205\u001b[0m \u001b[43m        \u001b[49m\u001b[43mindex\u001b[49m\u001b[43m,\u001b[49m\u001b[43m \u001b[49m\u001b[43mkey\u001b[49m\u001b[43m,\u001b[49m\u001b[43m \u001b[49m\u001b[43mds\u001b[49m\u001b[43m,\u001b[49m\u001b[43m \u001b[49m\u001b[43mexchanges\u001b[49m\u001b[43m,\u001b[49m\u001b[43m \u001b[49m\u001b[43mactivities\u001b[49m\n\u001b[1;32m    206\u001b[0m \u001b[43m    \u001b[49m\u001b[43m)\u001b[49m\n\u001b[1;32m    208\u001b[0m \u001b[38;5;28;01mif\u001b[39;00m \u001b[38;5;129;01mnot\u001b[39;00m \u001b[38;5;28mgetattr\u001b[39m(config, \u001b[38;5;124m\"\u001b[39m\u001b[38;5;124mis_test\u001b[39m\u001b[38;5;124m\"\u001b[39m, \u001b[38;5;28;01mNone\u001b[39;00m):\n\u001b[1;32m    209\u001b[0m     \u001b[38;5;28mprint\u001b[39m(\u001b[38;5;28mself\u001b[39m\u001b[38;5;241m.\u001b[39mpbar)\n",
      "File \u001b[0;32m~/miniconda3/envs/ab/lib/python3.9/site-packages/bw2data/backends/peewee/database.py:156\u001b[0m, in \u001b[0;36mSQLiteBackend._efficient_write_dataset\u001b[0;34m(self, index, key, ds, exchanges, activities)\u001b[0m\n\u001b[1;32m    154\u001b[0m \u001b[38;5;28;01mfor\u001b[39;00m exchange \u001b[38;5;129;01min\u001b[39;00m ds\u001b[38;5;241m.\u001b[39mget(\u001b[38;5;124m'\u001b[39m\u001b[38;5;124mexchanges\u001b[39m\u001b[38;5;124m'\u001b[39m, []):\n\u001b[1;32m    155\u001b[0m     \u001b[38;5;28;01mif\u001b[39;00m \u001b[38;5;124m'\u001b[39m\u001b[38;5;124minput\u001b[39m\u001b[38;5;124m'\u001b[39m \u001b[38;5;129;01mnot\u001b[39;00m \u001b[38;5;129;01min\u001b[39;00m exchange \u001b[38;5;129;01mor\u001b[39;00m \u001b[38;5;124m'\u001b[39m\u001b[38;5;124mamount\u001b[39m\u001b[38;5;124m'\u001b[39m \u001b[38;5;129;01mnot\u001b[39;00m \u001b[38;5;129;01min\u001b[39;00m exchange:\n\u001b[0;32m--> 156\u001b[0m         \u001b[38;5;28;01mraise\u001b[39;00m InvalidExchange\n\u001b[1;32m    157\u001b[0m     \u001b[38;5;28;01mif\u001b[39;00m \u001b[38;5;124m'\u001b[39m\u001b[38;5;124mtype\u001b[39m\u001b[38;5;124m'\u001b[39m \u001b[38;5;129;01mnot\u001b[39;00m \u001b[38;5;129;01min\u001b[39;00m exchange:\n\u001b[1;32m    158\u001b[0m         \u001b[38;5;28;01mraise\u001b[39;00m UntypedExchange\n",
      "\u001b[0;31mInvalidExchange\u001b[0m: "
     ]
    }
   ],
   "source": [
    "importer_ei37.write_database()\n",
    "\n",
    "# Print databases after writing to verify\n",
    "print(\"\\nDatabases after writing:\")\n",
    "print(bd.databases)"
   ]
  }
 ],
 "metadata": {
  "kernelspec": {
   "display_name": "Python 3 (ipykernel)",
   "language": "python",
   "name": "python3"
  }
 },
 "nbformat": 4,
 "nbformat_minor": 4
}
