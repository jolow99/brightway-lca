{
 "cells": [
  {
   "cell_type": "code",
   "execution_count": 12,
   "metadata": {},
   "outputs": [
    {
     "name": "stdout",
     "output_type": "stream",
     "text": [
      "Current project: default\n",
      "Databases dictionary with 2 object(s):\n",
      "\tbiosphere3\n",
      "\teco\n"
     ]
    }
   ],
   "source": [
    "# Step 1: Setup \n",
    "import bw2io as bi\n",
    "import bw2data as bd\n",
    "import bw2calc as bc\n",
    "\n",
    "bd.projects.set_current(\"default\")\n",
    "print(f\"Current project: {bd.projects.current}\")\n",
    "print(bd.databases)"
   ]
  },
  {
   "cell_type": "code",
   "execution_count": 16,
   "metadata": {},
   "outputs": [],
   "source": [
    "# Step 2: Define the main activity. e.g. Here it is 1 espresso machine.\n",
    "# TODO: Change to 10,000 cups of espresso\n",
    "pss_db = bd.Database(\"PSS\")\n",
    "pss_db.register()\n",
    "ec155 = pss_db.new_activity(\n",
    "    code=\"EC155\",\n",
    "    name=\"DeLonghi EC155\",\n",
    "    unit=\"1 unit\",\n",
    "    location=\"CN\"\n",
    ")\n",
    "ec155.save()"
   ]
  },
  {
   "cell_type": "code",
   "execution_count": 17,
   "metadata": {},
   "outputs": [],
   "source": [
    "# Step 3: Setup exchanges. \n",
    "# TODO: Need to hone in on all the exchanges that we need.  \n",
    "ec155.new_exchange(\n",
    "    input=('eco', 'd25ea355f1c0b2053556b3186ee9eed0'),  # ABS market\n",
    "    amount=2.1,\n",
    "    type=\"technosphere\"\n",
    ").save()\n",
    "ec155.new_exchange(\n",
    "    input=('eco', '34d68b6f4b6f7bdaa57a22871980ed27'),  # Stainless steel\n",
    "    amount=1.0,\n",
    "    type=\"technosphere\"\n",
    ").save()\n",
    "# Transportation\n",
    "ec155.new_exchange(\n",
    "    input=('eco', '8807700205a912f679f0607416661d8c'),  # Sea transport\n",
    "    amount=8000 * 3.1 / 1000,  # 3.1kg total weight × 8000km\n",
    "    type=\"technosphere\"\n",
    ").save()\n",
    "# Use phase electricity\n",
    "ec155.new_exchange(\n",
    "    input=('eco', 'e3f36056ff58dd398cb233d860fd654a'),  # SG electricity\n",
    "    amount=500,\n",
    "    type=\"technosphere\"\n",
    ").save()"
   ]
  },
  {
   "cell_type": "code",
   "execution_count": 24,
   "metadata": {},
   "outputs": [
    {
     "name": "stdout",
     "output_type": "stream",
     "text": [
      "257.6464778968324\n"
     ]
    }
   ],
   "source": [
    "# Step 4: Do the LCA calculations and print out the score\n",
    "fu = {ec155:1}\n",
    "method = ('IPCC 2013', 'climate change', 'GWP 100a')\n",
    "lca = bc.LCA(fu, method)\n",
    "lca.lci()\n",
    "lca.lcia()\n",
    "print(lca.score)"
   ]
  }
 ],
 "metadata": {
  "kernelspec": {
   "display_name": "Python 3 (ipykernel)",
   "language": "python",
   "name": "python3"
  },
  "language_info": {
   "codemirror_mode": {
    "name": "ipython",
    "version": 3
   },
   "file_extension": ".py",
   "mimetype": "text/x-python",
   "name": "python",
   "nbconvert_exporter": "python",
   "pygments_lexer": "ipython3",
   "version": "3.9.21"
  }
 },
 "nbformat": 4,
 "nbformat_minor": 2
}
